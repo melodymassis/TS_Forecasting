{
 "cells": [
  {
   "cell_type": "code",
   "execution_count": 1,
   "metadata": {
    "slideshow": {
     "slide_type": "fragment"
    }
   },
   "outputs": [],
   "source": [
    "%matplotlib inline\n",
    "import matplotlib.pyplot as plt\n",
    "import numpy as np\n",
    "import pandas as pd\n",
    "import seaborn as sns\n",
    "from sklearn.ensemble import RandomForestRegressor\n",
    "from sklearn.model_selection import train_test_split\n",
    "from sklearn import linear_model\n"
   ]
  },
  {
   "cell_type": "code",
   "execution_count": 31,
   "metadata": {
    "scrolled": true,
    "slideshow": {
     "slide_type": "fragment"
    }
   },
   "outputs": [
    {
     "data": {
      "text/html": [
       "<div>\n",
       "<style scoped>\n",
       "    .dataframe tbody tr th:only-of-type {\n",
       "        vertical-align: middle;\n",
       "    }\n",
       "\n",
       "    .dataframe tbody tr th {\n",
       "        vertical-align: top;\n",
       "    }\n",
       "\n",
       "    .dataframe thead th {\n",
       "        text-align: right;\n",
       "    }\n",
       "</style>\n",
       "<table border=\"1\" class=\"dataframe\">\n",
       "  <thead>\n",
       "    <tr style=\"text-align: right;\">\n",
       "      <th></th>\n",
       "      <th>sale</th>\n",
       "      <th>Day(Report Date)</th>\n",
       "      <th>ID</th>\n",
       "      <th>week</th>\n",
       "      <th>year</th>\n",
       "      <th>u</th>\n",
       "      <th>p</th>\n",
       "      <th>Lift_DOD</th>\n",
       "      <th>change in p</th>\n",
       "      <th>Lift_retail</th>\n",
       "      <th>Lift_2DOD</th>\n",
       "      <th>Lift_2retail</th>\n",
       "      <th>Size</th>\n",
       "    </tr>\n",
       "  </thead>\n",
       "  <tbody>\n",
       "    <tr>\n",
       "      <th>0</th>\n",
       "      <td>607.4</td>\n",
       "      <td>4/16/17</td>\n",
       "      <td>15739134</td>\n",
       "      <td>12</td>\n",
       "      <td>2018</td>\n",
       "      <td>3</td>\n",
       "      <td>202.466667</td>\n",
       "      <td>2.0</td>\n",
       "      <td>1</td>\n",
       "      <td>0.000000</td>\n",
       "      <td>0.000000</td>\n",
       "      <td>0.000000</td>\n",
       "      <td>40</td>\n",
       "    </tr>\n",
       "    <tr>\n",
       "      <th>1</th>\n",
       "      <td>397.96</td>\n",
       "      <td>4/21/17</td>\n",
       "      <td>15739134</td>\n",
       "      <td>12</td>\n",
       "      <td>2018</td>\n",
       "      <td>2</td>\n",
       "      <td>198.980000</td>\n",
       "      <td>1.0</td>\n",
       "      <td>0</td>\n",
       "      <td>-0.017221</td>\n",
       "      <td>0.000000</td>\n",
       "      <td>0.000000</td>\n",
       "      <td>40</td>\n",
       "    </tr>\n",
       "    <tr>\n",
       "      <th>2</th>\n",
       "      <td>390</td>\n",
       "      <td>4/22/17</td>\n",
       "      <td>15739134</td>\n",
       "      <td>13</td>\n",
       "      <td>2018</td>\n",
       "      <td>2</td>\n",
       "      <td>195.000000</td>\n",
       "      <td>0.0</td>\n",
       "      <td>1</td>\n",
       "      <td>-0.020002</td>\n",
       "      <td>-0.333333</td>\n",
       "      <td>-0.036878</td>\n",
       "      <td>40</td>\n",
       "    </tr>\n",
       "    <tr>\n",
       "      <th>3</th>\n",
       "      <td>390</td>\n",
       "      <td>4/23/17</td>\n",
       "      <td>15739134</td>\n",
       "      <td>13</td>\n",
       "      <td>2018</td>\n",
       "      <td>2</td>\n",
       "      <td>195.000000</td>\n",
       "      <td>0.0</td>\n",
       "      <td>0</td>\n",
       "      <td>0.000000</td>\n",
       "      <td>0.000000</td>\n",
       "      <td>-0.020002</td>\n",
       "      <td>40</td>\n",
       "    </tr>\n",
       "    <tr>\n",
       "      <th>4</th>\n",
       "      <td>3,315</td>\n",
       "      <td>4/24/17</td>\n",
       "      <td>15739134</td>\n",
       "      <td>13</td>\n",
       "      <td>2018</td>\n",
       "      <td>17</td>\n",
       "      <td>195.000000</td>\n",
       "      <td>7.5</td>\n",
       "      <td>0</td>\n",
       "      <td>0.000000</td>\n",
       "      <td>7.500000</td>\n",
       "      <td>0.000000</td>\n",
       "      <td>40</td>\n",
       "    </tr>\n",
       "  </tbody>\n",
       "</table>\n",
       "</div>"
      ],
      "text/plain": [
       "     sale Day(Report Date)        ID  week  year   u           p  Lift_DOD  \\\n",
       "0   607.4          4/16/17  15739134    12  2018   3  202.466667       2.0   \n",
       "1  397.96          4/21/17  15739134    12  2018   2  198.980000       1.0   \n",
       "2     390          4/22/17  15739134    13  2018   2  195.000000       0.0   \n",
       "3     390          4/23/17  15739134    13  2018   2  195.000000       0.0   \n",
       "4   3,315          4/24/17  15739134    13  2018  17  195.000000       7.5   \n",
       "\n",
       "   change in p  Lift_retail  Lift_2DOD  Lift_2retail  Size  \n",
       "0            1     0.000000   0.000000      0.000000    40  \n",
       "1            0    -0.017221   0.000000      0.000000    40  \n",
       "2            1    -0.020002  -0.333333     -0.036878    40  \n",
       "3            0     0.000000   0.000000     -0.020002    40  \n",
       "4            0     0.000000   7.500000      0.000000    40  "
      ]
     },
     "execution_count": 31,
     "metadata": {},
     "output_type": "execute_result"
    }
   ],
   "source": [
    "csvfile = \"cleandata7.csv\"\n",
    "data = pd.read_csv(csvfile)\n",
    "data.head()"
   ]
  },
  {
   "cell_type": "code",
   "execution_count": 32,
   "metadata": {},
   "outputs": [
    {
     "data": {
      "text/plain": [
       "94330"
      ]
     },
     "execution_count": 32,
     "metadata": {},
     "output_type": "execute_result"
    }
   ],
   "source": [
    "data[\"ID\"].size"
   ]
  },
  {
   "cell_type": "code",
   "execution_count": 33,
   "metadata": {},
   "outputs": [],
   "source": [
    "x = data[[\"Lift_retail\", \"Size\", \"p\", \"week\"]]\n",
    "y = data[\"u\"].values"
   ]
  },
  {
   "cell_type": "code",
   "execution_count": 34,
   "metadata": {},
   "outputs": [],
   "source": [
    "# Split the data into training and testing\n",
    "\n",
    "from sklearn.model_selection import train_test_split\n",
    "\n",
    "X_train, X_test, y_train, y_test = train_test_split(x, y, random_state=42)\n"
   ]
  },
  {
   "cell_type": "code",
   "execution_count": 35,
   "metadata": {},
   "outputs": [],
   "source": [
    "# from sklearn.preprocessing import StandardScaler\n",
    "\n",
    "# # # Create a StandardScater model and fit it to the training data\n",
    "\n",
    "# X_scaler = StandardScaler().fit(X_train)\n",
    "# y_scaler = StandardScaler().fit(y_train)\n"
   ]
  },
  {
   "cell_type": "code",
   "execution_count": 36,
   "metadata": {},
   "outputs": [],
   "source": [
    "# # Transform the training and testing data using the X_scaler and y_scaler models\n",
    "\n",
    "# X_train_scaled = X_scaler.transform(X_train)\n",
    "# X_test_scaled = X_scaler.transform(X_test)\n",
    "# y_train_scaled = y_scaler.transform(y_train)\n",
    "# y_test_scaled = y_scaler.transform(y_test)\n"
   ]
  },
  {
   "cell_type": "code",
   "execution_count": 37,
   "metadata": {
    "scrolled": true,
    "slideshow": {
     "slide_type": "fragment"
    }
   },
   "outputs": [
    {
     "data": {
      "text/plain": [
       "RandomForestRegressor(bootstrap=True, criterion='mse', max_depth=None,\n",
       "           max_features='auto', max_leaf_nodes=None,\n",
       "           min_impurity_decrease=0.0, min_impurity_split=None,\n",
       "           min_samples_leaf=1, min_samples_split=2,\n",
       "           min_weight_fraction_leaf=0.0, n_estimators=1000, n_jobs=-1,\n",
       "           oob_score=False, random_state=0, verbose=0, warm_start=False)"
      ]
     },
     "execution_count": 37,
     "metadata": {},
     "output_type": "execute_result"
    }
   ],
   "source": [
    "# n_samples = 5000\n",
    "# n_features = 3\n",
    "# x = data[[\"AUR TY\", \"size\", \"WM Week #\"]]\n",
    "# y = data[\"Units\"]\n",
    "# #y = data[\"Units\"].values.reshape(-1, 1)\n",
    "\n",
    "\n",
    "model = RandomForestRegressor(n_estimators=1000, n_jobs=-1, random_state=0)\n",
    "\n",
    "# try SGD regressor\n",
    "# model = linear_model.SGDRegressor()\n",
    "model.fit(X_train, y_train)\n",
    "\n",
    "# # try nearest\n",
    "# from sklearn.neighbors import NearestNeighbors\n"
   ]
  },
  {
   "cell_type": "code",
   "execution_count": 38,
   "metadata": {},
   "outputs": [
    {
     "data": {
      "text/html": [
       "<div>\n",
       "<style scoped>\n",
       "    .dataframe tbody tr th:only-of-type {\n",
       "        vertical-align: middle;\n",
       "    }\n",
       "\n",
       "    .dataframe tbody tr th {\n",
       "        vertical-align: top;\n",
       "    }\n",
       "\n",
       "    .dataframe thead th {\n",
       "        text-align: right;\n",
       "    }\n",
       "</style>\n",
       "<table border=\"1\" class=\"dataframe\">\n",
       "  <thead>\n",
       "    <tr style=\"text-align: right;\">\n",
       "      <th></th>\n",
       "      <th>Predicted</th>\n",
       "      <th>Actual</th>\n",
       "      <th>Error</th>\n",
       "    </tr>\n",
       "  </thead>\n",
       "  <tbody>\n",
       "    <tr>\n",
       "      <th>0</th>\n",
       "      <td>8.651127</td>\n",
       "      <td>25</td>\n",
       "      <td>-16.348873</td>\n",
       "    </tr>\n",
       "    <tr>\n",
       "      <th>1</th>\n",
       "      <td>18.525177</td>\n",
       "      <td>14</td>\n",
       "      <td>4.525177</td>\n",
       "    </tr>\n",
       "    <tr>\n",
       "      <th>2</th>\n",
       "      <td>19.925000</td>\n",
       "      <td>10</td>\n",
       "      <td>9.925000</td>\n",
       "    </tr>\n",
       "    <tr>\n",
       "      <th>3</th>\n",
       "      <td>24.264753</td>\n",
       "      <td>5</td>\n",
       "      <td>19.264753</td>\n",
       "    </tr>\n",
       "    <tr>\n",
       "      <th>4</th>\n",
       "      <td>11.107923</td>\n",
       "      <td>14</td>\n",
       "      <td>-2.892077</td>\n",
       "    </tr>\n",
       "    <tr>\n",
       "      <th>5</th>\n",
       "      <td>9.298344</td>\n",
       "      <td>5</td>\n",
       "      <td>4.298344</td>\n",
       "    </tr>\n",
       "    <tr>\n",
       "      <th>6</th>\n",
       "      <td>5.427387</td>\n",
       "      <td>7</td>\n",
       "      <td>-1.572613</td>\n",
       "    </tr>\n",
       "    <tr>\n",
       "      <th>7</th>\n",
       "      <td>40.605449</td>\n",
       "      <td>2</td>\n",
       "      <td>38.605449</td>\n",
       "    </tr>\n",
       "    <tr>\n",
       "      <th>8</th>\n",
       "      <td>97.541505</td>\n",
       "      <td>77</td>\n",
       "      <td>20.541505</td>\n",
       "    </tr>\n",
       "    <tr>\n",
       "      <th>9</th>\n",
       "      <td>3.854000</td>\n",
       "      <td>2</td>\n",
       "      <td>1.854000</td>\n",
       "    </tr>\n",
       "    <tr>\n",
       "      <th>10</th>\n",
       "      <td>25.542682</td>\n",
       "      <td>16</td>\n",
       "      <td>9.542682</td>\n",
       "    </tr>\n",
       "    <tr>\n",
       "      <th>11</th>\n",
       "      <td>15.465842</td>\n",
       "      <td>19</td>\n",
       "      <td>-3.534158</td>\n",
       "    </tr>\n",
       "    <tr>\n",
       "      <th>12</th>\n",
       "      <td>20.232300</td>\n",
       "      <td>8</td>\n",
       "      <td>12.232300</td>\n",
       "    </tr>\n",
       "    <tr>\n",
       "      <th>13</th>\n",
       "      <td>8.236428</td>\n",
       "      <td>4</td>\n",
       "      <td>4.236428</td>\n",
       "    </tr>\n",
       "    <tr>\n",
       "      <th>14</th>\n",
       "      <td>2.108800</td>\n",
       "      <td>3</td>\n",
       "      <td>-0.891200</td>\n",
       "    </tr>\n",
       "    <tr>\n",
       "      <th>15</th>\n",
       "      <td>16.828650</td>\n",
       "      <td>20</td>\n",
       "      <td>-3.171350</td>\n",
       "    </tr>\n",
       "    <tr>\n",
       "      <th>16</th>\n",
       "      <td>18.168871</td>\n",
       "      <td>31</td>\n",
       "      <td>-12.831129</td>\n",
       "    </tr>\n",
       "    <tr>\n",
       "      <th>17</th>\n",
       "      <td>3.323902</td>\n",
       "      <td>2</td>\n",
       "      <td>1.323902</td>\n",
       "    </tr>\n",
       "    <tr>\n",
       "      <th>18</th>\n",
       "      <td>13.854000</td>\n",
       "      <td>45</td>\n",
       "      <td>-31.146000</td>\n",
       "    </tr>\n",
       "    <tr>\n",
       "      <th>19</th>\n",
       "      <td>7.067546</td>\n",
       "      <td>18</td>\n",
       "      <td>-10.932454</td>\n",
       "    </tr>\n",
       "    <tr>\n",
       "      <th>20</th>\n",
       "      <td>45.076770</td>\n",
       "      <td>17</td>\n",
       "      <td>28.076770</td>\n",
       "    </tr>\n",
       "    <tr>\n",
       "      <th>21</th>\n",
       "      <td>15.901000</td>\n",
       "      <td>13</td>\n",
       "      <td>2.901000</td>\n",
       "    </tr>\n",
       "    <tr>\n",
       "      <th>22</th>\n",
       "      <td>3.338877</td>\n",
       "      <td>2</td>\n",
       "      <td>1.338877</td>\n",
       "    </tr>\n",
       "    <tr>\n",
       "      <th>23</th>\n",
       "      <td>11.454359</td>\n",
       "      <td>11</td>\n",
       "      <td>0.454359</td>\n",
       "    </tr>\n",
       "    <tr>\n",
       "      <th>24</th>\n",
       "      <td>10.184355</td>\n",
       "      <td>55</td>\n",
       "      <td>-44.815645</td>\n",
       "    </tr>\n",
       "    <tr>\n",
       "      <th>25</th>\n",
       "      <td>4.971072</td>\n",
       "      <td>4</td>\n",
       "      <td>0.971072</td>\n",
       "    </tr>\n",
       "    <tr>\n",
       "      <th>26</th>\n",
       "      <td>10.683396</td>\n",
       "      <td>14</td>\n",
       "      <td>-3.316604</td>\n",
       "    </tr>\n",
       "    <tr>\n",
       "      <th>27</th>\n",
       "      <td>183.062000</td>\n",
       "      <td>210</td>\n",
       "      <td>-26.938000</td>\n",
       "    </tr>\n",
       "    <tr>\n",
       "      <th>28</th>\n",
       "      <td>5.205665</td>\n",
       "      <td>15</td>\n",
       "      <td>-9.794335</td>\n",
       "    </tr>\n",
       "    <tr>\n",
       "      <th>29</th>\n",
       "      <td>66.572345</td>\n",
       "      <td>18</td>\n",
       "      <td>48.572345</td>\n",
       "    </tr>\n",
       "    <tr>\n",
       "      <th>30</th>\n",
       "      <td>26.312863</td>\n",
       "      <td>60</td>\n",
       "      <td>-33.687137</td>\n",
       "    </tr>\n",
       "    <tr>\n",
       "      <th>31</th>\n",
       "      <td>3.172000</td>\n",
       "      <td>2</td>\n",
       "      <td>1.172000</td>\n",
       "    </tr>\n",
       "    <tr>\n",
       "      <th>32</th>\n",
       "      <td>12.276000</td>\n",
       "      <td>6</td>\n",
       "      <td>6.276000</td>\n",
       "    </tr>\n",
       "    <tr>\n",
       "      <th>33</th>\n",
       "      <td>2.897497</td>\n",
       "      <td>3</td>\n",
       "      <td>-0.102503</td>\n",
       "    </tr>\n",
       "    <tr>\n",
       "      <th>34</th>\n",
       "      <td>2.681766</td>\n",
       "      <td>2</td>\n",
       "      <td>0.681766</td>\n",
       "    </tr>\n",
       "    <tr>\n",
       "      <th>35</th>\n",
       "      <td>14.917873</td>\n",
       "      <td>7</td>\n",
       "      <td>7.917873</td>\n",
       "    </tr>\n",
       "    <tr>\n",
       "      <th>36</th>\n",
       "      <td>3.395174</td>\n",
       "      <td>3</td>\n",
       "      <td>0.395174</td>\n",
       "    </tr>\n",
       "    <tr>\n",
       "      <th>37</th>\n",
       "      <td>4.471926</td>\n",
       "      <td>2</td>\n",
       "      <td>2.471926</td>\n",
       "    </tr>\n",
       "    <tr>\n",
       "      <th>38</th>\n",
       "      <td>9.397283</td>\n",
       "      <td>10</td>\n",
       "      <td>-0.602717</td>\n",
       "    </tr>\n",
       "    <tr>\n",
       "      <th>39</th>\n",
       "      <td>17.817027</td>\n",
       "      <td>18</td>\n",
       "      <td>-0.182973</td>\n",
       "    </tr>\n",
       "  </tbody>\n",
       "</table>\n",
       "</div>"
      ],
      "text/plain": [
       "     Predicted  Actual      Error\n",
       "0     8.651127      25 -16.348873\n",
       "1    18.525177      14   4.525177\n",
       "2    19.925000      10   9.925000\n",
       "3    24.264753       5  19.264753\n",
       "4    11.107923      14  -2.892077\n",
       "5     9.298344       5   4.298344\n",
       "6     5.427387       7  -1.572613\n",
       "7    40.605449       2  38.605449\n",
       "8    97.541505      77  20.541505\n",
       "9     3.854000       2   1.854000\n",
       "10   25.542682      16   9.542682\n",
       "11   15.465842      19  -3.534158\n",
       "12   20.232300       8  12.232300\n",
       "13    8.236428       4   4.236428\n",
       "14    2.108800       3  -0.891200\n",
       "15   16.828650      20  -3.171350\n",
       "16   18.168871      31 -12.831129\n",
       "17    3.323902       2   1.323902\n",
       "18   13.854000      45 -31.146000\n",
       "19    7.067546      18 -10.932454\n",
       "20   45.076770      17  28.076770\n",
       "21   15.901000      13   2.901000\n",
       "22    3.338877       2   1.338877\n",
       "23   11.454359      11   0.454359\n",
       "24   10.184355      55 -44.815645\n",
       "25    4.971072       4   0.971072\n",
       "26   10.683396      14  -3.316604\n",
       "27  183.062000     210 -26.938000\n",
       "28    5.205665      15  -9.794335\n",
       "29   66.572345      18  48.572345\n",
       "30   26.312863      60 -33.687137\n",
       "31    3.172000       2   1.172000\n",
       "32   12.276000       6   6.276000\n",
       "33    2.897497       3  -0.102503\n",
       "34    2.681766       2   0.681766\n",
       "35   14.917873       7   7.917873\n",
       "36    3.395174       3   0.395174\n",
       "37    4.471926       2   2.471926\n",
       "38    9.397283      10  -0.602717\n",
       "39   17.817027      18  -0.182973"
      ]
     },
     "execution_count": 38,
     "metadata": {},
     "output_type": "execute_result"
    }
   ],
   "source": [
    "predictions = model.predict(X_test)\n",
    "comparison = pd.DataFrame({\"Predicted\": predictions, \"Actual\": y_test, \"Error\": predictions - y_test})[[\"Predicted\", \"Actual\", \"Error\"]] \n",
    "comparison.head(40)\n",
    "\n",
    "# print(predictions)"
   ]
  },
  {
   "cell_type": "code",
   "execution_count": 42,
   "metadata": {},
   "outputs": [
    {
     "data": {
      "text/plain": [
       "[]"
      ]
     },
     "execution_count": 42,
     "metadata": {},
     "output_type": "execute_result"
    },
    {
     "data": {
      "image/png": "[encoded data removed]",
      "text/plain": [
       "<matplotlib.figure.Figure at 0x1a45d19a58>"
      ]
     },
     "metadata": {},
     "output_type": "display_data"
    }
   ],
   "source": [
    "plt.plot()"
   ]
  },
  {
   "cell_type": "code",
   "execution_count": null,
   "metadata": {},
   "outputs": [],
   "source": [
    "print(predictions)"
   ]
  },
  {
   "cell_type": "code",
   "execution_count": null,
   "metadata": {},
   "outputs": [],
   "source": [
    "print(y_test)"
   ]
  },
  {
   "cell_type": "markdown",
   "metadata": {},
   "source": [
    "Notes from prev test"
   ]
  },
  {
   "cell_type": "code",
   "execution_count": 39,
   "metadata": {},
   "outputs": [
    {
     "name": "stdout",
     "output_type": "stream",
     "text": [
      "R2 Score: 0.7023864286188212\n"
     ]
    }
   ],
   "source": [
    "score = model.score(X_test, y_test)\n",
    "print(f\"R2 Score: {score}\")"
   ]
  },
  {
   "cell_type": "code",
   "execution_count": 40,
   "metadata": {},
   "outputs": [],
   "source": [
    "from numpy import sqrt\n",
    "from sklearn.metrics import mean_squared_error, mean_squared_log_error\n",
    "\n",
    "def rmsle(predictions, y_test):\n",
    "    return np.sqrt(mean_squared_error(predictions, y_test))"
   ]
  },
  {
   "cell_type": "code",
   "execution_count": 41,
   "metadata": {},
   "outputs": [
    {
     "data": {
      "text/plain": [
       "array([ 1956.66174783])"
      ]
     },
     "execution_count": 41,
     "metadata": {},
     "output_type": "execute_result"
    }
   ],
   "source": [
    "mean_squared_error(comparison[\"Predicted\"], comparison[\"Actual\"], multioutput='raw_values')"
   ]
  },
  {
   "cell_type": "code",
   "execution_count": null,
   "metadata": {},
   "outputs": [],
   "source": []
  }
 ],
 "metadata": {
  "anaconda-cloud": {},
  "celltoolbar": "Slideshow",
  "kernelspec": {
   "display_name": "Python [default]",
   "language": "python",
   "name": "python3"
  },
  "language_info": {
   "codemirror_mode": {
    "name": "ipython",
    "version": 3
   },
   "file_extension": ".py",
   "mimetype": "text/x-python",
   "name": "python",
   "nbconvert_exporter": "python",
   "pygments_lexer": "ipython3",
   "version": "3.6.4"
  },
  "varInspector": {
   "cols": {
    "lenName": 16,
    "lenType": 16,
    "lenVar": 40
   },
   "kernels_config": {
    "python": {
     "delete_cmd_postfix": "",
     "delete_cmd_prefix": "del ",
     "library": "var_list.py",
     "varRefreshCmd": "print(var_dic_list())"
    },
    "r": {
     "delete_cmd_postfix": ") ",
     "delete_cmd_prefix": "rm(",
     "library": "var_list.r",
     "varRefreshCmd": "cat(var_dic_list()) "
    }
   },
   "types_to_exclude": [
    "module",
    "function",
    "builtin_function_or_method",
    "instance",
    "_Feature"
   ],
   "window_display": false
  }
 },
 "nbformat": 4,
 "nbformat_minor": 2
}
