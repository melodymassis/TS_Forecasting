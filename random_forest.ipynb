{
 "cells": [
  {
   "cell_type": "code",
   "execution_count": 2,
   "metadata": {
    "slideshow": {
     "slide_type": "fragment"
    }
   },
   "outputs": [],
   "source": [
    "%matplotlib inline\n",
    "import matplotlib.pyplot as plt\n",
    "import numpy as np\n",
    "import pandas as pd\n",
    "import seaborn as sns\n",
    "from sklearn.ensemble import RandomForestRegressor\n",
    "from sklearn.model_selection import train_test_split\n",
    "from sklearn import linear_model\n",
    "from matplotlib.pylab import rcParams\n",
    "rcParams['figure.figsize'] = 15, 6"
   ]
  },
  {
   "cell_type": "code",
   "execution_count": 18,
   "metadata": {},
   "outputs": [],
   "source": [
    "csv = \"cleandata7.csv\"\n",
    "fulldata = pd.read_csv(csv)\n",
    "# fulldata.head()"
   ]
  },
  {
   "cell_type": "code",
   "execution_count": 4,
   "metadata": {},
   "outputs": [
    {
     "data": {
      "text/plain": [
       "sale                 object\n",
       "Day(Report Date)     object\n",
       "ID                    int64\n",
       "week                  int64\n",
       "year                  int64\n",
       "u                     int64\n",
       "p                   float64\n",
       "Lift_DOD            float64\n",
       "change in p           int64\n",
       "Lift_retail         float64\n",
       "Lift_2DOD           float64\n",
       "Lift_2retail        float64\n",
       "Size                  int64\n",
       "Weekday               int64\n",
       "dtype: object"
      ]
     },
     "execution_count": 4,
     "metadata": {},
     "output_type": "execute_result"
    }
   ],
   "source": [
    "fulldata.dtypes"
   ]
  },
  {
   "cell_type": "code",
   "execution_count": 17,
   "metadata": {},
   "outputs": [],
   "source": [
    "newdata = pd.read_csv('cleandata7.csv', parse_dates=['Day(Report Date)'])\n",
    "# newdata.head()"
   ]
  },
  {
   "cell_type": "code",
   "execution_count": 6,
   "metadata": {},
   "outputs": [
    {
     "data": {
      "text/plain": [
       "sale                        object\n",
       "Day(Report Date)    datetime64[ns]\n",
       "ID                           int64\n",
       "week                         int64\n",
       "year                         int64\n",
       "u                            int64\n",
       "p                          float64\n",
       "Lift_DOD                   float64\n",
       "change in p                  int64\n",
       "Lift_retail                float64\n",
       "Lift_2DOD                  float64\n",
       "Lift_2retail               float64\n",
       "Size                         int64\n",
       "Weekday                      int64\n",
       "dtype: object"
      ]
     },
     "execution_count": 6,
     "metadata": {},
     "output_type": "execute_result"
    }
   ],
   "source": [
    "newdata.dtypes"
   ]
  },
  {
   "cell_type": "code",
   "execution_count": 10,
   "metadata": {},
   "outputs": [
    {
     "data": {
      "text/plain": [
       "[]"
      ]
     },
     "execution_count": 10,
     "metadata": {},
     "output_type": "execute_result"
    },
    {
     "data": {
      "image/png": "[encoded data removed]",
      "text/plain": [
       "<matplotlib.figure.Figure at 0x109d68400>"
      ]
     },
     "metadata": {},
     "output_type": "display_data"
    }
   ],
   "source": [
    "plt.figure(figsize=(10,8))\n",
    "plt.bar(newdata[\"Day(Report Date)\"], newdata[\"u\"])\n",
    "plt.title(\"Units over time\")\n",
    "plt.ylabel(\"Units\")\n",
    "plt.xlabel(\"Time stamp\")\n",
    "plt.grid(True)\n",
    "plt.plot()"
   ]
  },
  {
   "cell_type": "code",
   "execution_count": 15,
   "metadata": {},
   "outputs": [
    {
     "data": {
      "text/plain": [
       "RangeIndex(start=0, stop=94330, step=1)"
      ]
     },
     "execution_count": 15,
     "metadata": {},
     "output_type": "execute_result"
    }
   ],
   "source": [
    "newdata.index"
   ]
  },
  {
   "cell_type": "code",
   "execution_count": null,
   "metadata": {},
   "outputs": [],
   "source": [
    "ts = newdata[\"u\"] \n",
    "ts.head(10)"
   ]
  },
  {
   "cell_type": "code",
   "execution_count": null,
   "metadata": {},
   "outputs": [],
   "source": []
  },
  {
   "cell_type": "code",
   "execution_count": 16,
   "metadata": {
    "scrolled": true,
    "slideshow": {
     "slide_type": "fragment"
    }
   },
   "outputs": [],
   "source": [
    "csvfile = \"cleandata7.csv\"\n",
    "data = pd.read_csv(csvfile)\n",
    "# data.head()"
   ]
  },
  {
   "cell_type": "code",
   "execution_count": 3,
   "metadata": {},
   "outputs": [
    {
     "data": {
      "text/plain": [
       "94330"
      ]
     },
     "execution_count": 3,
     "metadata": {},
     "output_type": "execute_result"
    }
   ],
   "source": [
    "data[\"ID\"].size"
   ]
  },
  {
   "cell_type": "code",
   "execution_count": 69,
   "metadata": {},
   "outputs": [],
   "source": [
    "x = data[[\"Lift_retail\",\"Size\", \"p\", \"week\"]]\n",
    "y = data[\"u\"].values"
   ]
  },
  {
   "cell_type": "code",
   "execution_count": 70,
   "metadata": {},
   "outputs": [],
   "source": [
    "# Split the data into training and testing\n",
    "\n",
    "from sklearn.model_selection import train_test_split\n",
    "\n",
    "X_train, X_test, y_train, y_test = train_test_split(x, y, random_state=42)\n"
   ]
  },
  {
   "cell_type": "code",
   "execution_count": 71,
   "metadata": {},
   "outputs": [],
   "source": [
    "# from sklearn.preprocessing import StandardScaler\n",
    "\n",
    "# # # Create a StandardScater model and fit it to the training data\n",
    "\n",
    "# X_scaler = StandardScaler().fit(X_train)\n",
    "# y_scaler = StandardScaler().fit(y_train)\n"
   ]
  },
  {
   "cell_type": "code",
   "execution_count": 72,
   "metadata": {},
   "outputs": [],
   "source": [
    "# # Transform the training and testing data using the X_scaler and y_scaler models\n",
    "\n",
    "# X_train_scaled = X_scaler.transform(X_train)\n",
    "# X_test_scaled = X_scaler.transform(X_test)\n",
    "# y_train_scaled = y_scaler.transform(y_train)\n",
    "# y_test_scaled = y_scaler.transform(y_test)\n"
   ]
  },
  {
   "cell_type": "code",
   "execution_count": 73,
   "metadata": {
    "scrolled": true,
    "slideshow": {
     "slide_type": "fragment"
    }
   },
   "outputs": [
    {
     "data": {
      "text/plain": [
       "RandomForestRegressor(bootstrap=True, criterion='mse', max_depth=None,\n",
       "           max_features='auto', max_leaf_nodes=None,\n",
       "           min_impurity_decrease=0.0, min_impurity_split=None,\n",
       "           min_samples_leaf=1, min_samples_split=2,\n",
       "           min_weight_fraction_leaf=0.0, n_estimators=1000, n_jobs=-1,\n",
       "           oob_score=False, random_state=0, verbose=0, warm_start=False)"
      ]
     },
     "execution_count": 73,
     "metadata": {},
     "output_type": "execute_result"
    }
   ],
   "source": [
    "# n_samples = 5000\n",
    "# n_features = 3\n",
    "# x = data[[\"AUR TY\", \"size\", \"WM Week #\"]]\n",
    "# y = data[\"Units\"]\n",
    "# #y = data[\"Units\"].values.reshape(-1, 1)\n",
    "\n",
    "\n",
    "model = RandomForestRegressor(n_estimators=1000, n_jobs=-1, random_state=0)\n",
    "\n",
    "# try SGD regressor\n",
    "# model = linear_model.SGDRegressor()\n",
    "model.fit(X_train, y_train)\n",
    "\n",
    "# # try nearest\n",
    "# from sklearn.neighbors import NearestNeighbors\n"
   ]
  },
  {
   "cell_type": "code",
   "execution_count": 74,
   "metadata": {},
   "outputs": [
    {
     "data": {
      "text/html": [
       "<div>\n",
       "<style scoped>\n",
       "    .dataframe tbody tr th:only-of-type {\n",
       "        vertical-align: middle;\n",
       "    }\n",
       "\n",
       "    .dataframe tbody tr th {\n",
       "        vertical-align: top;\n",
       "    }\n",
       "\n",
       "    .dataframe thead th {\n",
       "        text-align: right;\n",
       "    }\n",
       "</style>\n",
       "<table border=\"1\" class=\"dataframe\">\n",
       "  <thead>\n",
       "    <tr style=\"text-align: right;\">\n",
       "      <th></th>\n",
       "      <th>Predicted</th>\n",
       "      <th>Actual</th>\n",
       "      <th>Error</th>\n",
       "    </tr>\n",
       "  </thead>\n",
       "  <tbody>\n",
       "    <tr>\n",
       "      <th>0</th>\n",
       "      <td>8.651127</td>\n",
       "      <td>25</td>\n",
       "      <td>-16.348873</td>\n",
       "    </tr>\n",
       "    <tr>\n",
       "      <th>1</th>\n",
       "      <td>18.525177</td>\n",
       "      <td>14</td>\n",
       "      <td>4.525177</td>\n",
       "    </tr>\n",
       "    <tr>\n",
       "      <th>2</th>\n",
       "      <td>19.858000</td>\n",
       "      <td>10</td>\n",
       "      <td>9.858000</td>\n",
       "    </tr>\n",
       "    <tr>\n",
       "      <th>3</th>\n",
       "      <td>24.264753</td>\n",
       "      <td>5</td>\n",
       "      <td>19.264753</td>\n",
       "    </tr>\n",
       "    <tr>\n",
       "      <th>4</th>\n",
       "      <td>11.107923</td>\n",
       "      <td>14</td>\n",
       "      <td>-2.892077</td>\n",
       "    </tr>\n",
       "    <tr>\n",
       "      <th>5</th>\n",
       "      <td>9.298344</td>\n",
       "      <td>5</td>\n",
       "      <td>4.298344</td>\n",
       "    </tr>\n",
       "    <tr>\n",
       "      <th>6</th>\n",
       "      <td>5.427387</td>\n",
       "      <td>7</td>\n",
       "      <td>-1.572613</td>\n",
       "    </tr>\n",
       "    <tr>\n",
       "      <th>7</th>\n",
       "      <td>40.605449</td>\n",
       "      <td>2</td>\n",
       "      <td>38.605449</td>\n",
       "    </tr>\n",
       "    <tr>\n",
       "      <th>8</th>\n",
       "      <td>97.541505</td>\n",
       "      <td>77</td>\n",
       "      <td>20.541505</td>\n",
       "    </tr>\n",
       "    <tr>\n",
       "      <th>9</th>\n",
       "      <td>3.784000</td>\n",
       "      <td>2</td>\n",
       "      <td>1.784000</td>\n",
       "    </tr>\n",
       "    <tr>\n",
       "      <th>10</th>\n",
       "      <td>25.542682</td>\n",
       "      <td>16</td>\n",
       "      <td>9.542682</td>\n",
       "    </tr>\n",
       "    <tr>\n",
       "      <th>11</th>\n",
       "      <td>15.465842</td>\n",
       "      <td>19</td>\n",
       "      <td>-3.534158</td>\n",
       "    </tr>\n",
       "    <tr>\n",
       "      <th>12</th>\n",
       "      <td>20.232300</td>\n",
       "      <td>8</td>\n",
       "      <td>12.232300</td>\n",
       "    </tr>\n",
       "    <tr>\n",
       "      <th>13</th>\n",
       "      <td>8.236428</td>\n",
       "      <td>4</td>\n",
       "      <td>4.236428</td>\n",
       "    </tr>\n",
       "    <tr>\n",
       "      <th>14</th>\n",
       "      <td>2.104467</td>\n",
       "      <td>3</td>\n",
       "      <td>-0.895533</td>\n",
       "    </tr>\n",
       "    <tr>\n",
       "      <th>15</th>\n",
       "      <td>16.828650</td>\n",
       "      <td>20</td>\n",
       "      <td>-3.171350</td>\n",
       "    </tr>\n",
       "    <tr>\n",
       "      <th>16</th>\n",
       "      <td>18.168871</td>\n",
       "      <td>31</td>\n",
       "      <td>-12.831129</td>\n",
       "    </tr>\n",
       "    <tr>\n",
       "      <th>17</th>\n",
       "      <td>3.323902</td>\n",
       "      <td>2</td>\n",
       "      <td>1.323902</td>\n",
       "    </tr>\n",
       "    <tr>\n",
       "      <th>18</th>\n",
       "      <td>13.778000</td>\n",
       "      <td>45</td>\n",
       "      <td>-31.222000</td>\n",
       "    </tr>\n",
       "    <tr>\n",
       "      <th>19</th>\n",
       "      <td>7.067546</td>\n",
       "      <td>18</td>\n",
       "      <td>-10.932454</td>\n",
       "    </tr>\n",
       "    <tr>\n",
       "      <th>20</th>\n",
       "      <td>45.076770</td>\n",
       "      <td>17</td>\n",
       "      <td>28.076770</td>\n",
       "    </tr>\n",
       "    <tr>\n",
       "      <th>21</th>\n",
       "      <td>16.193000</td>\n",
       "      <td>13</td>\n",
       "      <td>3.193000</td>\n",
       "    </tr>\n",
       "    <tr>\n",
       "      <th>22</th>\n",
       "      <td>3.338877</td>\n",
       "      <td>2</td>\n",
       "      <td>1.338877</td>\n",
       "    </tr>\n",
       "    <tr>\n",
       "      <th>23</th>\n",
       "      <td>11.454359</td>\n",
       "      <td>11</td>\n",
       "      <td>0.454359</td>\n",
       "    </tr>\n",
       "    <tr>\n",
       "      <th>24</th>\n",
       "      <td>10.184355</td>\n",
       "      <td>55</td>\n",
       "      <td>-44.815645</td>\n",
       "    </tr>\n",
       "    <tr>\n",
       "      <th>25</th>\n",
       "      <td>4.971072</td>\n",
       "      <td>4</td>\n",
       "      <td>0.971072</td>\n",
       "    </tr>\n",
       "    <tr>\n",
       "      <th>26</th>\n",
       "      <td>10.100711</td>\n",
       "      <td>14</td>\n",
       "      <td>-3.899289</td>\n",
       "    </tr>\n",
       "    <tr>\n",
       "      <th>27</th>\n",
       "      <td>182.350000</td>\n",
       "      <td>210</td>\n",
       "      <td>-27.650000</td>\n",
       "    </tr>\n",
       "    <tr>\n",
       "      <th>28</th>\n",
       "      <td>5.205665</td>\n",
       "      <td>15</td>\n",
       "      <td>-9.794335</td>\n",
       "    </tr>\n",
       "    <tr>\n",
       "      <th>29</th>\n",
       "      <td>66.572345</td>\n",
       "      <td>18</td>\n",
       "      <td>48.572345</td>\n",
       "    </tr>\n",
       "    <tr>\n",
       "      <th>30</th>\n",
       "      <td>26.312863</td>\n",
       "      <td>60</td>\n",
       "      <td>-33.687137</td>\n",
       "    </tr>\n",
       "    <tr>\n",
       "      <th>31</th>\n",
       "      <td>3.229000</td>\n",
       "      <td>2</td>\n",
       "      <td>1.229000</td>\n",
       "    </tr>\n",
       "    <tr>\n",
       "      <th>32</th>\n",
       "      <td>12.990000</td>\n",
       "      <td>6</td>\n",
       "      <td>6.990000</td>\n",
       "    </tr>\n",
       "    <tr>\n",
       "      <th>33</th>\n",
       "      <td>2.897497</td>\n",
       "      <td>3</td>\n",
       "      <td>-0.102503</td>\n",
       "    </tr>\n",
       "    <tr>\n",
       "      <th>34</th>\n",
       "      <td>2.698223</td>\n",
       "      <td>2</td>\n",
       "      <td>0.698223</td>\n",
       "    </tr>\n",
       "    <tr>\n",
       "      <th>35</th>\n",
       "      <td>14.917873</td>\n",
       "      <td>7</td>\n",
       "      <td>7.917873</td>\n",
       "    </tr>\n",
       "    <tr>\n",
       "      <th>36</th>\n",
       "      <td>3.395174</td>\n",
       "      <td>3</td>\n",
       "      <td>0.395174</td>\n",
       "    </tr>\n",
       "    <tr>\n",
       "      <th>37</th>\n",
       "      <td>4.637903</td>\n",
       "      <td>2</td>\n",
       "      <td>2.637903</td>\n",
       "    </tr>\n",
       "    <tr>\n",
       "      <th>38</th>\n",
       "      <td>9.397283</td>\n",
       "      <td>10</td>\n",
       "      <td>-0.602717</td>\n",
       "    </tr>\n",
       "    <tr>\n",
       "      <th>39</th>\n",
       "      <td>17.828074</td>\n",
       "      <td>18</td>\n",
       "      <td>-0.171926</td>\n",
       "    </tr>\n",
       "  </tbody>\n",
       "</table>\n",
       "</div>"
      ],
      "text/plain": [
       "     Predicted  Actual      Error\n",
       "0     8.651127      25 -16.348873\n",
       "1    18.525177      14   4.525177\n",
       "2    19.858000      10   9.858000\n",
       "3    24.264753       5  19.264753\n",
       "4    11.107923      14  -2.892077\n",
       "5     9.298344       5   4.298344\n",
       "6     5.427387       7  -1.572613\n",
       "7    40.605449       2  38.605449\n",
       "8    97.541505      77  20.541505\n",
       "9     3.784000       2   1.784000\n",
       "10   25.542682      16   9.542682\n",
       "11   15.465842      19  -3.534158\n",
       "12   20.232300       8  12.232300\n",
       "13    8.236428       4   4.236428\n",
       "14    2.104467       3  -0.895533\n",
       "15   16.828650      20  -3.171350\n",
       "16   18.168871      31 -12.831129\n",
       "17    3.323902       2   1.323902\n",
       "18   13.778000      45 -31.222000\n",
       "19    7.067546      18 -10.932454\n",
       "20   45.076770      17  28.076770\n",
       "21   16.193000      13   3.193000\n",
       "22    3.338877       2   1.338877\n",
       "23   11.454359      11   0.454359\n",
       "24   10.184355      55 -44.815645\n",
       "25    4.971072       4   0.971072\n",
       "26   10.100711      14  -3.899289\n",
       "27  182.350000     210 -27.650000\n",
       "28    5.205665      15  -9.794335\n",
       "29   66.572345      18  48.572345\n",
       "30   26.312863      60 -33.687137\n",
       "31    3.229000       2   1.229000\n",
       "32   12.990000       6   6.990000\n",
       "33    2.897497       3  -0.102503\n",
       "34    2.698223       2   0.698223\n",
       "35   14.917873       7   7.917873\n",
       "36    3.395174       3   0.395174\n",
       "37    4.637903       2   2.637903\n",
       "38    9.397283      10  -0.602717\n",
       "39   17.828074      18  -0.171926"
      ]
     },
     "execution_count": 74,
     "metadata": {},
     "output_type": "execute_result"
    }
   ],
   "source": [
    "predictions = model.predict(X_test)\n",
    "comparison = pd.DataFrame({\"Predicted\": predictions, \"Actual\": y_test, \"Error\": predictions - y_test})[[\"Predicted\", \"Actual\", \"Error\"]] \n",
    "comparison.head(40)\n",
    "\n",
    "# print(predictions)"
   ]
  },
  {
   "cell_type": "code",
   "execution_count": 75,
   "metadata": {},
   "outputs": [
    {
     "data": {
      "text/plain": [
       "[]"
      ]
     },
     "execution_count": 75,
     "metadata": {},
     "output_type": "execute_result"
    },
    {
     "data": {
      "image/png": "[encoded data removed]",
      "text/plain": [
       "<matplotlib.figure.Figure at 0x1cff444b38>"
      ]
     },
     "metadata": {},
     "output_type": "display_data"
    }
   ],
   "source": [
    "plt.figure(figsize=(10,8))\n",
    "plt.scatter(predictions, y_test)\n",
    "plt.title(\"Predictions vs. Test\")\n",
    "plt.ylabel(\"Actuals\")\n",
    "plt.xlabel(\"Predictions\")\n",
    "plt.grid(True)\n",
    "plt.plot()"
   ]
  },
  {
   "cell_type": "code",
   "execution_count": null,
   "metadata": {},
   "outputs": [],
   "source": [
    "print(predictions)"
   ]
  },
  {
   "cell_type": "code",
   "execution_count": null,
   "metadata": {},
   "outputs": [],
   "source": [
    "print(y_test)"
   ]
  },
  {
   "cell_type": "markdown",
   "metadata": {},
   "source": [
    "Notes from prev test"
   ]
  },
  {
   "cell_type": "code",
   "execution_count": 76,
   "metadata": {},
   "outputs": [
    {
     "name": "stdout",
     "output_type": "stream",
     "text": [
      "R2 Score: 0.7034255739064977\n"
     ]
    }
   ],
   "source": [
    "score = model.score(X_test, y_test)\n",
    "print(f\"R2 Score: {score}\")"
   ]
  },
  {
   "cell_type": "code",
   "execution_count": 78,
   "metadata": {},
   "outputs": [],
   "source": [
    "from numpy import sqrt\n",
    "from sklearn.metrics import mean_squared_error, mean_squared_log_error\n",
    "\n",
    "def rmsle(predictions, y_test):\n",
    "    return np.sqrt(mean_squared_error(predictions, y_test))"
   ]
  },
  {
   "cell_type": "code",
   "execution_count": 81,
   "metadata": {},
   "outputs": [
    {
     "data": {
      "text/html": [
       "<div>\n",
       "<style scoped>\n",
       "    .dataframe tbody tr th:only-of-type {\n",
       "        vertical-align: middle;\n",
       "    }\n",
       "\n",
       "    .dataframe tbody tr th {\n",
       "        vertical-align: top;\n",
       "    }\n",
       "\n",
       "    .dataframe thead th {\n",
       "        text-align: right;\n",
       "    }\n",
       "</style>\n",
       "<table border=\"1\" class=\"dataframe\">\n",
       "  <thead>\n",
       "    <tr style=\"text-align: right;\">\n",
       "      <th></th>\n",
       "      <th>0</th>\n",
       "    </tr>\n",
       "  </thead>\n",
       "  <tbody>\n",
       "    <tr>\n",
       "      <th>0</th>\n",
       "      <td>1949.829883</td>\n",
       "    </tr>\n",
       "  </tbody>\n",
       "</table>\n",
       "</div>"
      ],
      "text/plain": [
       "             0\n",
       "0  1949.829883"
      ]
     },
     "execution_count": 81,
     "metadata": {},
     "output_type": "execute_result"
    }
   ],
   "source": [
    "error = pd.DataFrame(mean_squared_error(comparison[\"Predicted\"], comparison[\"Actual\"], multioutput='raw_values'))\n",
    "error"
   ]
  },
  {
   "cell_type": "code",
   "execution_count": 100,
   "metadata": {},
   "outputs": [
    {
     "data": {
      "text/plain": [
       "[array([ 133.302]),\n",
       " array([ 137.538]),\n",
       " array([ 128.621]),\n",
       " array([ 115.878]),\n",
       " array([ 129.113]),\n",
       " array([ 78.851]),\n",
       " array([ 33.685]),\n",
       " array([ 29.536]),\n",
       " array([ 25.133]),\n",
       " array([ 22.999]),\n",
       " array([ 21.123]),\n",
       " array([ 21.097]),\n",
       " array([ 19.354]),\n",
       " array([ 20.25]),\n",
       " array([ 23.008]),\n",
       " array([ 24.052]),\n",
       " array([ 25.805]),\n",
       " array([ 26.592]),\n",
       " array([ 28.24]),\n",
       " array([ 30.167]),\n",
       " array([ 27.345]),\n",
       " array([ 26.697]),\n",
       " array([ 33.56]),\n",
       " array([ 29.287]),\n",
       " array([ 26.536])]"
      ]
     },
     "execution_count": 100,
     "metadata": {},
     "output_type": "execute_result"
    }
   ],
   "source": [
    "weekly_sales = []\n",
    "for weeks in range (1,26):\n",
    "    forecast = model.predict([[0.01, 32, 109, weeks]])\n",
    "    weekly_sales.append(forecast)\n",
    "weekly_sales"
   ]
  },
  {
   "cell_type": "code",
   "execution_count": null,
   "metadata": {},
   "outputs": [],
   "source": []
  }
 ],
 "metadata": {
  "anaconda-cloud": {},
  "celltoolbar": "Slideshow",
  "kernelspec": {
   "display_name": "Python [default]",
   "language": "python",
   "name": "python3"
  },
  "language_info": {
   "codemirror_mode": {
    "name": "ipython",
    "version": 3
   },
   "file_extension": ".py",
   "mimetype": "text/x-python",
   "name": "python",
   "nbconvert_exporter": "python",
   "pygments_lexer": "ipython3",
   "version": "3.6.4"
  },
  "varInspector": {
   "cols": {
    "lenName": 16,
    "lenType": 16,
    "lenVar": 40
   },
   "kernels_config": {
    "python": {
     "delete_cmd_postfix": "",
     "delete_cmd_prefix": "del ",
     "library": "var_list.py",
     "varRefreshCmd": "print(var_dic_list())"
    },
    "r": {
     "delete_cmd_postfix": ") ",
     "delete_cmd_prefix": "rm(",
     "library": "var_list.r",
     "varRefreshCmd": "cat(var_dic_list()) "
    }
   },
   "types_to_exclude": [
    "module",
    "function",
    "builtin_function_or_method",
    "instance",
    "_Feature"
   ],
   "window_display": false
  }
 },
 "nbformat": 4,
 "nbformat_minor": 2
}
